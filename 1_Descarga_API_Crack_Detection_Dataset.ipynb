{
  "nbformat": 4,
  "nbformat_minor": 0,
  "metadata": {
    "colab": {
      "name": "6.7.1 Descarga_API_Crack_Detection_Dataset.ipynb",
      "provenance": [],
      "collapsed_sections": []
    },
    "kernelspec": {
      "name": "python3",
      "display_name": "Python 3"
    }
  },
  "cells": [
    {
      "cell_type": "markdown",
      "metadata": {
        "id": "vRn3IepKgfEp"
      },
      "source": [
        "# 1. Descarga del dataset Crack Detection de la API de Kaggle"
      ]
    },
    {
      "cell_type": "markdown",
      "metadata": {
        "id": "rp3SqdSG8AJs"
      },
      "source": [
        "**Objetivo:** Descargar el dataset.\r\n",
        "\r\n",
        "Concrete surface cracks are major defect in civil structures. Building Inspection which is done for the evaluation of rigidity and tensile strength of the building. Crack detection plays a major role in the building inspection, finding the cracks and determining the building health.\r\n",
        "\r\n",
        "\r\n",
        "https://www.kaggle.com/arunrk7/surface-crack-detection\r\n",
        "\r\n",
        "**Información de las características**\r\n",
        "The datasets contains images of various concrete surfaces with and without crack. The image data are divided into two as negative (without crack) and positive (with crack) in separate folder for image classification. Each class has 20000 images with a total of 40000 images with 227 x 227 pixels with RGB channels. The dataset is generated from 458 high-resolution images (4032x3024 pixel) with the method proposed by Zhang et al (2016). High resolution images found out to have high variance in terms of surface finish and illumination condition. No data augmentation in terms of random rotation or flipping or tilting is applied. \r\n",
        "\r\n",
        "\r\n",
        "**Número de instancias:** 20000"
      ]
    },
    {
      "cell_type": "code",
      "metadata": {
        "colab": {
          "base_uri": "https://localhost:8080/"
        },
        "id": "XzFr2a1dazuN",
        "outputId": "f3c89ad3-4b63-4bbd-932d-ce3efd2b2aac"
      },
      "source": [
        "from google.colab import drive\r\n",
        "drive.mount('/content/drive')"
      ],
      "execution_count": null,
      "outputs": [
        {
          "output_type": "stream",
          "text": [
            "Drive already mounted at /content/drive; to attempt to forcibly remount, call drive.mount(\"/content/drive\", force_remount=True).\n"
          ],
          "name": "stdout"
        }
      ]
    },
    {
      "cell_type": "code",
      "metadata": {
        "id": "gIxtM8ESf03_"
      },
      "source": [
        "pip install kaggle"
      ],
      "execution_count": null,
      "outputs": []
    },
    {
      "cell_type": "markdown",
      "metadata": {
        "id": "-eoN00Vc6wER"
      },
      "source": [
        "# 2. Path del archivo .json en el folder de drive"
      ]
    },
    {
      "cell_type": "code",
      "metadata": {
        "colab": {
          "base_uri": "https://localhost:8080/"
        },
        "id": "RaHGO-zRfLJ2",
        "outputId": "cd8b8914-e7e8-4d11-a58f-46ec62b2ba9a"
      },
      "source": [
        "import os\r\n",
        "# Insertar el path donde se encuentra el archivo kaggle.json en Google Drive\r\n",
        "ruta = r'/content/drive/MyDrive/Cracked'\r\n",
        "os.environ['KAGGLE_CONFIG_DIR'] = ruta\r\n",
        "# Aquí cambiamos el directorio de trabajo\r\n",
        "%cd /content/drive/MyDrive/Kaggle"
      ],
      "execution_count": null,
      "outputs": [
        {
          "output_type": "stream",
          "text": [
            "/content/drive/MyDrive/Kaggle\n"
          ],
          "name": "stdout"
        }
      ]
    },
    {
      "cell_type": "markdown",
      "metadata": {
        "id": "WRlITfRP7AWg"
      },
      "source": [
        "# 3. Descargando el dataset de imágenes"
      ]
    },
    {
      "cell_type": "code",
      "metadata": {
        "colab": {
          "base_uri": "https://localhost:8080/"
        },
        "id": "CIYZm6K5fZ4P",
        "outputId": "4b67f592-ea80-4015-ab19-77b625a8de41"
      },
      "source": [
        "!kaggle datasets download -d arunrk7/surface-crack-detection"
      ],
      "execution_count": null,
      "outputs": [
        {
          "output_type": "stream",
          "text": [
            "surface-crack-detection.zip: Skipping, found more recently modified local copy (use --force to force download)\n"
          ],
          "name": "stdout"
        }
      ]
    },
    {
      "cell_type": "code",
      "metadata": {
        "colab": {
          "base_uri": "https://localhost:8080/"
        },
        "id": "EjGyupwTfxYi",
        "outputId": "fad5f9ce-b346-42db-cf44-db3e5eec7b3d"
      },
      "source": [
        "ls"
      ],
      "execution_count": null,
      "outputs": [
        {
          "output_type": "stream",
          "text": [
            "kaggle.json  \u001b[0m\u001b[01;34mNegative\u001b[0m/  \u001b[01;34mPositive\u001b[0m/  surface-crack-detection.zip\n"
          ],
          "name": "stdout"
        }
      ]
    },
    {
      "cell_type": "markdown",
      "metadata": {
        "id": "yBHb3HQT71d6"
      },
      "source": [
        "# 4. Descomprimiendo el dataset "
      ]
    },
    {
      "cell_type": "code",
      "metadata": {
        "id": "o9gdtDBIgCjj"
      },
      "source": [
        "#Descoprimiendo los .zip y eliminando el .zip\r\n",
        "!unzip \\*.zip  && rm *.zip"
      ],
      "execution_count": null,
      "outputs": []
    },
    {
      "cell_type": "code",
      "metadata": {
        "id": "FRWkKx-Khjue"
      },
      "source": [
        ""
      ],
      "execution_count": null,
      "outputs": []
    }
  ]
}